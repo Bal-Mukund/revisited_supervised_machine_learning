{
 "cells": [
  {
   "cell_type": "code",
   "execution_count": 24,
   "id": "93e96866",
   "metadata": {},
   "outputs": [],
   "source": [
    "import numpy as np\n",
    "import time"
   ]
  },
  {
   "cell_type": "code",
   "execution_count": 37,
   "id": "cb43ccb7",
   "metadata": {},
   "outputs": [],
   "source": [
    "x = np.arange(10000)\n",
    "y = np.arange(10000)"
   ]
  },
  {
   "cell_type": "code",
   "execution_count": 38,
   "id": "7f9b4762",
   "metadata": {},
   "outputs": [],
   "source": [
    "def dot(a,b):\n",
    "    c = 0\n",
    "    for i in range(x.shape[0]):\n",
    "        c += x[i] * y[i]\n",
    "    return c"
   ]
  },
  {
   "cell_type": "code",
   "execution_count": 39,
   "id": "249a0e27",
   "metadata": {},
   "outputs": [
    {
     "name": "stdout",
     "output_type": "stream",
     "text": [
      "-1724114088\n",
      "4.0133\n"
     ]
    },
    {
     "name": "stderr",
     "output_type": "stream",
     "text": [
      "C:\\Users\\balmu\\AppData\\Local\\Temp\\ipykernel_10092\\2888040044.py:4: RuntimeWarning: overflow encountered in scalar add\n",
      "  c += x[i] * y[i]\n"
     ]
    }
   ],
   "source": [
    "tic = time.time()\n",
    "answer = dot(x,y)\n",
    "toc = time.time()\n",
    "print(answer)\n",
    "print(f\"{1000*(toc-tic):.4f}\")"
   ]
  },
  {
   "cell_type": "code",
   "execution_count": 40,
   "id": "968de4b3",
   "metadata": {},
   "outputs": [
    {
     "name": "stdout",
     "output_type": "stream",
     "text": [
      "-1724114088\n",
      "1.0171\n"
     ]
    }
   ],
   "source": [
    "tic = time.time()\n",
    "answer = np.dot(x,y)\n",
    "toc = time.time()\n",
    "print(answer)\n",
    "print(f\"{1000*(toc-tic):.4f}\")"
   ]
  },
  {
   "cell_type": "code",
   "execution_count": null,
   "id": "0d749aa3",
   "metadata": {},
   "outputs": [],
   "source": []
  },
  {
   "cell_type": "code",
   "execution_count": null,
   "id": "95062cf3",
   "metadata": {},
   "outputs": [],
   "source": []
  }
 ],
 "metadata": {
  "kernelspec": {
   "display_name": "Python 3 (ipykernel)",
   "language": "python",
   "name": "python3"
  },
  "language_info": {
   "codemirror_mode": {
    "name": "ipython",
    "version": 3
   },
   "file_extension": ".py",
   "mimetype": "text/x-python",
   "name": "python",
   "nbconvert_exporter": "python",
   "pygments_lexer": "ipython3",
   "version": "3.11.3"
  }
 },
 "nbformat": 4,
 "nbformat_minor": 5
}
