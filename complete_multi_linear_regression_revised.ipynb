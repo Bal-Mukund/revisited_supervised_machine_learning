{
 "cells": [
  {
   "cell_type": "code",
   "execution_count": 2,
   "id": "78879bc7",
   "metadata": {},
   "outputs": [],
   "source": [
    "import numpy as np\n",
    "import matplotlib.pyplot as plt\n",
    "import copy"
   ]
  },
  {
   "cell_type": "code",
   "execution_count": 3,
   "id": "429a0912",
   "metadata": {},
   "outputs": [],
   "source": [
    "X_features = ['size(sqft)','bedrooms','floors','age']\n",
    "\n",
    "X_train = np.array([[1.24e+03, 3.00e+00, 1.00e+00, 6.40e+01],\n",
    "       [1.95e+03, 3.00e+00, 2.00e+00, 1.70e+01],\n",
    "       [1.72e+03, 3.00e+00, 2.00e+00, 4.20e+01],\n",
    "       [1.96e+03, 3.00e+00, 2.00e+00, 1.50e+01],\n",
    "       [1.31e+03, 2.00e+00, 1.00e+00, 1.40e+01],\n",
    "       [8.64e+02, 2.00e+00, 1.00e+00, 6.60e+01],\n",
    "       [1.84e+03, 3.00e+00, 1.00e+00, 1.70e+01],\n",
    "       [1.03e+03, 3.00e+00, 1.00e+00, 4.30e+01],\n",
    "       [3.19e+03, 4.00e+00, 2.00e+00, 8.70e+01],\n",
    "       [7.88e+02, 2.00e+00, 1.00e+00, 8.00e+01],\n",
    "       [1.20e+03, 2.00e+00, 2.00e+00, 1.70e+01],\n",
    "       [1.56e+03, 2.00e+00, 1.00e+00, 1.80e+01],\n",
    "       [1.43e+03, 3.00e+00, 1.00e+00, 2.00e+01],\n",
    "       [1.22e+03, 2.00e+00, 1.00e+00, 1.50e+01],\n",
    "       [1.09e+03, 2.00e+00, 1.00e+00, 6.40e+01],\n",
    "       [8.48e+02, 1.00e+00, 1.00e+00, 1.70e+01],\n",
    "       [1.68e+03, 3.00e+00, 2.00e+00, 2.30e+01],\n",
    "       [1.77e+03, 3.00e+00, 2.00e+00, 1.80e+01],\n",
    "       [1.04e+03, 3.00e+00, 1.00e+00, 4.40e+01],\n",
    "       [1.65e+03, 2.00e+00, 1.00e+00, 2.10e+01],\n",
    "       [1.09e+03, 2.00e+00, 1.00e+00, 3.50e+01],\n",
    "       [1.32e+03, 3.00e+00, 1.00e+00, 1.40e+01],\n",
    "       [1.59e+03, 0.00e+00, 1.00e+00, 2.00e+01],\n",
    "       [9.72e+02, 2.00e+00, 1.00e+00, 7.30e+01],\n",
    "       [1.10e+03, 3.00e+00, 1.00e+00, 3.70e+01],\n",
    "       [1.00e+03, 2.00e+00, 1.00e+00, 5.10e+01],\n",
    "       [9.04e+02, 3.00e+00, 1.00e+00, 5.50e+01],\n",
    "       [1.69e+03, 3.00e+00, 1.00e+00, 1.30e+01],\n",
    "       [1.07e+03, 2.00e+00, 1.00e+00, 1.00e+02],\n",
    "       [1.42e+03, 3.00e+00, 2.00e+00, 1.90e+01],\n",
    "       [1.16e+03, 3.00e+00, 1.00e+00, 5.20e+01],\n",
    "       [1.94e+03, 3.00e+00, 2.00e+00, 1.20e+01],\n",
    "       [1.22e+03, 2.00e+00, 2.00e+00, 7.40e+01],\n",
    "       [2.48e+03, 4.00e+00, 2.00e+00, 1.60e+01],\n",
    "       [1.20e+03, 2.00e+00, 1.00e+00, 1.80e+01],\n",
    "       [1.84e+03, 3.00e+00, 2.00e+00, 2.00e+01],\n",
    "       [1.85e+03, 3.00e+00, 2.00e+00, 5.70e+01],\n",
    "       [1.66e+03, 3.00e+00, 2.00e+00, 1.90e+01],\n",
    "       [1.10e+03, 2.00e+00, 2.00e+00, 9.70e+01],\n",
    "       [1.78e+03, 3.00e+00, 2.00e+00, 2.80e+01],\n",
    "       [2.03e+03, 4.00e+00, 2.00e+00, 4.50e+01],\n",
    "       [1.78e+03, 4.00e+00, 2.00e+00, 1.07e+02],\n",
    "       [1.07e+03, 2.00e+00, 1.00e+00, 1.00e+02],\n",
    "       [1.55e+03, 3.00e+00, 1.00e+00, 1.60e+01],\n",
    "       [1.95e+03, 3.00e+00, 2.00e+00, 1.60e+01],\n",
    "       [1.22e+03, 2.00e+00, 2.00e+00, 1.20e+01],\n",
    "       [1.62e+03, 3.00e+00, 1.00e+00, 1.60e+01],\n",
    "       [8.16e+02, 2.00e+00, 1.00e+00, 5.80e+01],\n",
    "       [1.35e+03, 3.00e+00, 1.00e+00, 2.10e+01],\n",
    "       [1.57e+03, 3.00e+00, 1.00e+00, 1.40e+01],\n",
    "       [1.49e+03, 3.00e+00, 1.00e+00, 5.70e+01],\n",
    "       [1.51e+03, 2.00e+00, 1.00e+00, 1.60e+01],\n",
    "       [1.10e+03, 3.00e+00, 1.00e+00, 2.70e+01],\n",
    "       [1.76e+03, 3.00e+00, 2.00e+00, 2.40e+01],\n",
    "       [1.21e+03, 2.00e+00, 1.00e+00, 1.40e+01],\n",
    "       [1.47e+03, 3.00e+00, 2.00e+00, 2.40e+01],\n",
    "       [1.77e+03, 3.00e+00, 2.00e+00, 8.40e+01],\n",
    "       [1.65e+03, 3.00e+00, 1.00e+00, 1.90e+01],\n",
    "       [1.03e+03, 3.00e+00, 1.00e+00, 6.00e+01],\n",
    "       [1.12e+03, 2.00e+00, 2.00e+00, 1.60e+01],\n",
    "       [1.15e+03, 3.00e+00, 1.00e+00, 6.20e+01],\n",
    "       [8.16e+02, 2.00e+00, 1.00e+00, 3.90e+01],\n",
    "       [1.04e+03, 3.00e+00, 1.00e+00, 2.50e+01],\n",
    "       [1.39e+03, 3.00e+00, 1.00e+00, 6.40e+01],\n",
    "       [1.60e+03, 3.00e+00, 2.00e+00, 2.90e+01],\n",
    "       [1.22e+03, 3.00e+00, 1.00e+00, 6.30e+01],\n",
    "       [1.07e+03, 2.00e+00, 1.00e+00, 1.00e+02],\n",
    "       [2.60e+03, 4.00e+00, 2.00e+00, 2.20e+01],\n",
    "       [1.43e+03, 3.00e+00, 1.00e+00, 5.90e+01],\n",
    "       [2.09e+03, 3.00e+00, 2.00e+00, 2.60e+01],\n",
    "       [1.79e+03, 4.00e+00, 2.00e+00, 4.90e+01],\n",
    "       [1.48e+03, 3.00e+00, 2.00e+00, 1.60e+01],\n",
    "       [1.04e+03, 3.00e+00, 1.00e+00, 2.50e+01],\n",
    "       [1.43e+03, 3.00e+00, 1.00e+00, 2.20e+01],\n",
    "       [1.16e+03, 3.00e+00, 1.00e+00, 5.30e+01],\n",
    "       [1.55e+03, 3.00e+00, 2.00e+00, 1.20e+01],\n",
    "       [1.98e+03, 3.00e+00, 2.00e+00, 2.20e+01],\n",
    "       [1.06e+03, 3.00e+00, 1.00e+00, 5.30e+01],\n",
    "       [1.18e+03, 2.00e+00, 1.00e+00, 9.90e+01],\n",
    "       [1.36e+03, 2.00e+00, 1.00e+00, 1.70e+01],\n",
    "       [9.60e+02, 3.00e+00, 1.00e+00, 5.10e+01],\n",
    "       [1.46e+03, 3.00e+00, 2.00e+00, 1.60e+01],\n",
    "       [1.45e+03, 3.00e+00, 2.00e+00, 2.50e+01],\n",
    "       [1.21e+03, 2.00e+00, 1.00e+00, 1.50e+01],\n",
    "       [1.55e+03, 3.00e+00, 2.00e+00, 1.60e+01],\n",
    "       [8.82e+02, 3.00e+00, 1.00e+00, 4.90e+01],\n",
    "       [2.03e+03, 4.00e+00, 2.00e+00, 4.50e+01],\n",
    "       [1.04e+03, 3.00e+00, 1.00e+00, 6.20e+01],\n",
    "       [1.62e+03, 3.00e+00, 1.00e+00, 1.60e+01],\n",
    "       [8.03e+02, 2.00e+00, 1.00e+00, 8.00e+01],\n",
    "       [1.43e+03, 3.00e+00, 2.00e+00, 2.10e+01],\n",
    "       [1.66e+03, 3.00e+00, 1.00e+00, 6.10e+01],\n",
    "       [1.54e+03, 3.00e+00, 1.00e+00, 1.60e+01],\n",
    "       [9.48e+02, 3.00e+00, 1.00e+00, 5.30e+01],\n",
    "       [1.22e+03, 2.00e+00, 2.00e+00, 1.20e+01],\n",
    "       [1.43e+03, 2.00e+00, 1.00e+00, 4.30e+01],\n",
    "       [1.66e+03, 3.00e+00, 2.00e+00, 1.90e+01],\n",
    "       [1.21e+03, 3.00e+00, 1.00e+00, 2.00e+01],\n",
    "       [1.05e+03, 2.00e+00, 1.00e+00, 6.50e+01]])\n",
    "\n",
    "y_train = np.array([300.  , 509.8 , 394.  , 540.  , 415.  , 230.  , 560.  , 294.  ,\n",
    "       718.2 , 200.  , 302.  , 468.  , 374.2 , 388.  , 282.  , 311.8 ,\n",
    "       401.  , 449.8 , 301.  , 502.  , 340.  , 400.28, 572.  , 264.  ,\n",
    "       304.  , 298.  , 219.8 , 490.7 , 216.96, 368.2 , 280.  , 526.87,\n",
    "       237.  , 562.43, 369.8 , 460.  , 374.  , 390.  , 158.  , 426.  ,\n",
    "       390.  , 277.77, 216.96, 425.8 , 504.  , 329.  , 464.  , 220.  ,\n",
    "       358.  , 478.  , 334.  , 426.98, 290.  , 463.  , 390.8 , 354.  ,\n",
    "       350.  , 460.  , 237.  , 288.3 , 282.  , 249.  , 304.  , 332.  ,\n",
    "       351.8 , 310.  , 216.96, 666.34, 330.  , 480.  , 330.3 , 348.  ,\n",
    "       304.  , 384.  , 316.  , 430.4 , 450.  , 284.  , 275.  , 414.  ,\n",
    "       258.  , 378.  , 350.  , 412.  , 373.  , 225.  , 390.  , 267.4 ,\n",
    "       464.  , 174.  , 340.  , 430.  , 440.  , 216.  , 329.  , 388.  ,\n",
    "       390.  , 356.  , 257.8 ])"
   ]
  },
  {
   "cell_type": "code",
   "execution_count": 6,
   "id": "3d23404d",
   "metadata": {},
   "outputs": [],
   "source": [
    "def load_data():\n",
    "    return X_train, y_train"
   ]
  },
  {
   "cell_type": "code",
   "execution_count": null,
   "id": "8d05fa7b",
   "metadata": {},
   "outputs": [],
   "source": []
  },
  {
   "cell_type": "markdown",
   "id": "9754f299",
   "metadata": {},
   "source": [
    "### graphing for data overview"
   ]
  },
  {
   "cell_type": "code",
   "execution_count": null,
   "id": "27a9e6ee",
   "metadata": {},
   "outputs": [],
   "source": []
  },
  {
   "cell_type": "code",
   "execution_count": 4,
   "id": "d87b922c",
   "metadata": {},
   "outputs": [],
   "source": [
    "# plt.style.use(\"seaborn\")\n",
    "# fig, ax = plt.subplots(nrows=2, ncols=2,sharey=True)\n",
    "\n",
    "# ax[0,0].scatter(X_train[:,0],y_train)\n",
    "# ax[0,0].set_title(\"size vs price\")\n",
    "# ax[0,0].set_xlabel(\"size\")\n",
    "# ax[0,0].set_ylabel(\"price\")\n",
    "\n",
    "# ax[0,1].scatter(X_train[:,1],y_train)\n",
    "# ax[0,1].set_title(\"bedrooms vs price\")\n",
    "# ax[0,1].set_xlabel(\"bedrooms\")\n",
    "\n",
    "# ax[1,0].scatter(X_train[:,2],y_train)\n",
    "# ax[1,0].set_title(\"floors vs price\")\n",
    "# ax[1,0].set_xlabel(\"floors\")\n",
    "# ax[1,0].set_ylabel(\"price\")\n",
    "\n",
    "# ax[1,1].scatter(X_train[:,3],y_train)\n",
    "# ax[1,1].set_title(\"age vs price\")\n",
    "# ax[1,1].set_xlabel(\"age\")\n",
    "\n",
    "# plt.tight_layout()\n",
    "# plt.show()\n",
    "\n",
    "# # fig.savefig(\"house_prices-comparison.png\")\n"
   ]
  },
  {
   "cell_type": "code",
   "execution_count": null,
   "id": "6396dbe9",
   "metadata": {},
   "outputs": [],
   "source": []
  },
  {
   "cell_type": "code",
   "execution_count": 5,
   "id": "8ded44e4",
   "metadata": {},
   "outputs": [],
   "source": [
    "def model(x,w,b):\n",
    "    m = x.shape[0]\n",
    "    predicted_values = np.zeros(m)\n",
    "    for i in range(m):\n",
    "        predicted_values[i] = np.dot(w,x[i,:]) + b\n",
    "    return predicted_values"
   ]
  },
  {
   "cell_type": "code",
   "execution_count": 6,
   "id": "bbe61d7b",
   "metadata": {},
   "outputs": [],
   "source": [
    "def cost_function(x,y,w,b):\n",
    "    m = x.shape[0]\n",
    "    total_cost = 0.0\n",
    "    for i in range(m):\n",
    "        predicted_y = np.dot(w,x[i,:]) + b\n",
    "        total_cost += (predicted_y - y[i]) **2\n",
    "        \n",
    "    cost = total_cost / (2*m)\n",
    "        \n",
    "    return cost\n",
    "    "
   ]
  },
  {
   "cell_type": "code",
   "execution_count": 7,
   "id": "e7b4d353",
   "metadata": {},
   "outputs": [],
   "source": [
    "w_init = [5.46272114e-01, 9.95942300e-04, 5.13326600e-04, 1.22787139e-02]\n",
    "b_init = 0.0003595245\n",
    "\n",
    "cost = cost_function(X_train, y_train, w_init, b_init)"
   ]
  },
  {
   "cell_type": "code",
   "execution_count": 8,
   "id": "e8e93204",
   "metadata": {},
   "outputs": [],
   "source": [
    "def derivative(x,y,w,b):\n",
    "    m, n = x.shape\n",
    "    \n",
    "    dj_dw = np.zeros(n)\n",
    "    dj_db = 0.\n",
    "    for i in range(m):\n",
    "        predicted_y = np.dot(w,x[i, :]) + b\n",
    "        \n",
    "        for j in range(n):  \n",
    "            dj_dw[j] += (predicted_y - y_train[i]) * x[i,j]\n",
    "            \n",
    "        dj_db += predicted_y - y[i]\n",
    "    \n",
    "    dj_dw = dj_dw / m\n",
    "    dj_db = dj_db / m\n",
    "    \n",
    "    return dj_dw, dj_db"
   ]
  },
  {
   "cell_type": "code",
   "execution_count": 9,
   "id": "f76f23ca",
   "metadata": {},
   "outputs": [],
   "source": [
    "def gradient_descent(x,y,w_in,b_in,iteration,alpha, cost_function, derivative):\n",
    "    w = copy.deepcopy(w_in)\n",
    "    b = copy.deepcopy(b_in)\n",
    "    j_hist = []\n",
    "    for i in range(iteration):\n",
    "        \n",
    "        dj_dw, dj_db = derivative(x,y,w,b)\n",
    "        \n",
    "        w = w - (alpha * dj_dw)\n",
    "        b = b - (alpha * dj_db)\n",
    "        \n",
    "        j_hist.append(cost_function(x,y,w,b))\n",
    "        \n",
    "    return w, b, j_hist\n"
   ]
  },
  {
   "cell_type": "code",
   "execution_count": 10,
   "id": "f35c81c4",
   "metadata": {},
   "outputs": [],
   "source": [
    "def run_gradient_descent(x,y,iterations,alphas):\n",
    "    \n",
    "    m,n = x.shape\n",
    "    w_init = np.zeros((n))\n",
    "    b_init = 0.0\n",
    "    \n",
    "    w, b, j_hist = gradient_descent(x, y, w_init, b_init, iterations, alphas, cost_function, derivative)\n",
    "    return w, b, j_hist"
   ]
  },
  {
   "cell_type": "code",
   "execution_count": 15,
   "id": "dafc1378",
   "metadata": {},
   "outputs": [],
   "source": [
    "w_init = np.zeros(4)\n",
    "b_init = 0.\n",
    "iteration = 100\n",
    "alpha = 1e-7\n",
    "\n",
    "w_value, b_value, j_value = run_gradient_descent(X_train, y_train, iteration, alpha)"
   ]
  },
  {
   "cell_type": "markdown",
   "id": "488e8acd",
   "metadata": {},
   "source": [
    "### graphing cost vs iteration"
   ]
  },
  {
   "cell_type": "code",
   "execution_count": 13,
   "id": "db7a7a64",
   "metadata": {},
   "outputs": [],
   "source": [
    "# number_iteration = [i for i in range(len(j_value))]\n",
    "\n",
    "# plt.plot(number_iteration, j_value)\n",
    "\n",
    "# plt.xlabel(\"iterations\")\n",
    "# plt.ylabel(\"cost\")\n",
    "# plt.title(\"cost vs iterations\")\n",
    "# plt.show()"
   ]
  },
  {
   "cell_type": "code",
   "execution_count": null,
   "id": "1bf7e9e4",
   "metadata": {},
   "outputs": [],
   "source": []
  },
  {
   "cell_type": "code",
   "execution_count": 13,
   "id": "a3c2f0d0",
   "metadata": {},
   "outputs": [],
   "source": [
    "predicted_value = model(X_train, w_value, b_value)"
   ]
  },
  {
   "cell_type": "code",
   "execution_count": 22,
   "id": "9f75bfaf",
   "metadata": {},
   "outputs": [],
   "source": [
    "# fig, ax = plt.subplots(nrows=2, ncols=2, sharey=True)\n",
    "\n",
    "# ax[0,0].scatter(X_train[:, 0], y_train, label= 'Actual Values')\n",
    "# ax[0,0].scatter(X_train[:, 0], predicted_value, c='r', label='predicted values')\n",
    "# ax[0,0].set_xlabel('size')\n",
    "# ax[0,0].set_ylabel('price')\n",
    "\n",
    "# ax[0,1].scatter(X_train[:, 1], y_train, label= 'Actual Values')\n",
    "# ax[0,1].scatter(X_train[:, 1], predicted_value, c='r', label='predicted values')\n",
    "# ax[0,1].set_xlabel('bedrooms')\n",
    "# ax[0,1].set_ylabel('price')\n",
    "\n",
    "# ax[1,0].scatter(X_train[:, 2], y_train, label= 'Actual Values')\n",
    "# ax[1,0].scatter(X_train[:, 2], predicted_value, c='r', label='predicted values')\n",
    "# ax[1,0].set_xlabel('floors')\n",
    "# ax[1,0].set_ylabel('price')\n",
    "\n",
    "# ax[1,1].scatter(X_train[:, 3], y_train, label= 'Actual Values')\n",
    "# ax[1,1].scatter(X_train[:, 3], predicted_value, c='r', label='predicted values')\n",
    "# ax[1,1].set_xlabel('age')\n",
    "# ax[1,1].set_ylabel('price')  \n",
    "\n",
    "# plt.tight_layout()\n",
    "# plt.show()\n",
    "\n"
   ]
  },
  {
   "cell_type": "markdown",
   "id": "c12279f5",
   "metadata": {},
   "source": [
    "### using z score normalization"
   ]
  },
  {
   "cell_type": "code",
   "execution_count": 15,
   "id": "2e98c823",
   "metadata": {},
   "outputs": [],
   "source": [
    "def zscore_normalised(x):\n",
    "    mu = np.mean(x, axis=0)\n",
    "    sigma = np.std(x, axis=0)\n",
    "    \n",
    "    diff = x - mu\n",
    "    xnorm = diff / sigma\n",
    "    return xnorm, mu, sigma"
   ]
  },
  {
   "cell_type": "code",
   "execution_count": 23,
   "id": "370a0d95",
   "metadata": {},
   "outputs": [],
   "source": [
    "# xnorm, mu, sigma = zscore_normalised(X_train)"
   ]
  },
  {
   "cell_type": "code",
   "execution_count": 25,
   "id": "4f6660ad",
   "metadata": {},
   "outputs": [],
   "source": [
    "w_init = np.zeros(4)\n",
    "b_init = 0.\n",
    "iteration = 1000\n",
    "alpha = 1.0e-1\n",
    "\n",
    "w_value, b_value, j_value = gradient_descent(xnorm, y_train, w_init, b_init, iteration, alpha, cost_function, derivative)\n"
   ]
  },
  {
   "cell_type": "code",
   "execution_count": 27,
   "id": "d64b0658",
   "metadata": {},
   "outputs": [],
   "source": [
    "predicted_targe = model(xnorm, w_value, b_value)"
   ]
  },
  {
   "cell_type": "code",
   "execution_count": null,
   "id": "417019d3",
   "metadata": {},
   "outputs": [],
   "source": []
  },
  {
   "cell_type": "code",
   "execution_count": 28,
   "id": "d6252f18",
   "metadata": {},
   "outputs": [],
   "source": [
    "# fig, ax = plt.subplots(nrows=2, ncols=2, sharey=True)\n",
    "\n",
    "# ax[0,0].scatter(X_train[:, 0], y_train, label= 'Actual Values')\n",
    "# ax[0,0].scatter(X_train[:, 0], predicted_targe, c='r', label='predicted values')\n",
    "# ax[0,0].set_xlabel('size')\n",
    "# ax[0,0].set_ylabel('price')\n",
    "\n",
    "# ax[0,1].scatter(X_train[:, 1], y_train, label= 'Actual Values')\n",
    "# ax[0,1].scatter(X_train[:, 1], predicted_targe, c='r', label='predicted values')\n",
    "# ax[0,1].set_xlabel('bedrooms')\n",
    "\n",
    "# ax[1,0].scatter(X_train[:, 2], y_train, label= 'Actual Values')\n",
    "# ax[1,0].scatter(X_train[:, 2], predicted_targe, c='r', label='predicted values')\n",
    "# ax[1,0].set_xlabel('floors')\n",
    "# ax[0,0].set_ylabel('price')\n",
    "\n",
    "# ax[1,1].scatter(X_train[:, 3], y_train, label= 'Actual Values')\n",
    "# ax[1,1].scatter(X_train[:, 3], predicted_targe, c='r', label='predicted values')\n",
    "# ax[1,1].set_xlabel('age')\n",
    "\n",
    "# plt.tight_layout()\n",
    "# plt.show()"
   ]
  },
  {
   "cell_type": "code",
   "execution_count": 29,
   "id": "57d8631d",
   "metadata": {},
   "outputs": [],
   "source": [
    "# quick test\n",
    "x_test = np.array([[1.95e+03, 3.00e+00, 2.00e+00, 1.70e+01],\n",
    "       [1.72e+03, 3.00e+00, 2.00e+00, 4.20e+01]])\n",
    "\n",
    "# before finding prediction we also need to normalised x using previous mean and sigma\n",
    "x_znorm = (x_test - mu) / sigma\n",
    "\n",
    "predicted = model(x_znorm, w_value, b_value)"
   ]
  },
  {
   "cell_type": "code",
   "execution_count": null,
   "id": "4bbb5d4e",
   "metadata": {},
   "outputs": [],
   "source": []
  },
  {
   "cell_type": "code",
   "execution_count": null,
   "id": "5bb79247",
   "metadata": {},
   "outputs": [],
   "source": []
  },
  {
   "cell_type": "code",
   "execution_count": null,
   "id": "f03995e2",
   "metadata": {},
   "outputs": [],
   "source": []
  }
 ],
 "metadata": {
  "kernelspec": {
   "display_name": "Python 3 (ipykernel)",
   "language": "python",
   "name": "python3"
  },
  "language_info": {
   "codemirror_mode": {
    "name": "ipython",
    "version": 3
   },
   "file_extension": ".py",
   "mimetype": "text/x-python",
   "name": "python",
   "nbconvert_exporter": "python",
   "pygments_lexer": "ipython3",
   "version": "3.11.3"
  }
 },
 "nbformat": 4,
 "nbformat_minor": 5
}
