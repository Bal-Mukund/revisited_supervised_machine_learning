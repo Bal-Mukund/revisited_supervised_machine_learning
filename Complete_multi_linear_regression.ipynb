{
 "cells": [
  {
   "cell_type": "code",
   "execution_count": 6,
   "id": "5ee1754d",
   "metadata": {},
   "outputs": [],
   "source": [
    "import numpy as np\n",
    "import matplotlib.pyplot as plt\n",
    "import copy"
   ]
  },
  {
   "cell_type": "code",
   "execution_count": 7,
   "id": "def231c6",
   "metadata": {},
   "outputs": [],
   "source": [
    "X_features = ['size(sqft)','bedrooms','floors','age']\n",
    "\n",
    "X_train = np.array([[1.24e+03, 3.00e+00, 1.00e+00, 6.40e+01],\n",
    "       [1.95e+03, 3.00e+00, 2.00e+00, 1.70e+01],\n",
    "       [1.72e+03, 3.00e+00, 2.00e+00, 4.20e+01],\n",
    "       [1.96e+03, 3.00e+00, 2.00e+00, 1.50e+01],\n",
    "       [1.31e+03, 2.00e+00, 1.00e+00, 1.40e+01],\n",
    "       [8.64e+02, 2.00e+00, 1.00e+00, 6.60e+01],\n",
    "       [1.84e+03, 3.00e+00, 1.00e+00, 1.70e+01],\n",
    "       [1.03e+03, 3.00e+00, 1.00e+00, 4.30e+01],\n",
    "       [3.19e+03, 4.00e+00, 2.00e+00, 8.70e+01],\n",
    "       [7.88e+02, 2.00e+00, 1.00e+00, 8.00e+01],\n",
    "       [1.20e+03, 2.00e+00, 2.00e+00, 1.70e+01],\n",
    "       [1.56e+03, 2.00e+00, 1.00e+00, 1.80e+01],\n",
    "       [1.43e+03, 3.00e+00, 1.00e+00, 2.00e+01],\n",
    "       [1.22e+03, 2.00e+00, 1.00e+00, 1.50e+01],\n",
    "       [1.09e+03, 2.00e+00, 1.00e+00, 6.40e+01],\n",
    "       [8.48e+02, 1.00e+00, 1.00e+00, 1.70e+01],\n",
    "       [1.68e+03, 3.00e+00, 2.00e+00, 2.30e+01],\n",
    "       [1.77e+03, 3.00e+00, 2.00e+00, 1.80e+01],\n",
    "       [1.04e+03, 3.00e+00, 1.00e+00, 4.40e+01],\n",
    "       [1.65e+03, 2.00e+00, 1.00e+00, 2.10e+01],\n",
    "       [1.09e+03, 2.00e+00, 1.00e+00, 3.50e+01],\n",
    "       [1.32e+03, 3.00e+00, 1.00e+00, 1.40e+01],\n",
    "       [1.59e+03, 0.00e+00, 1.00e+00, 2.00e+01],\n",
    "       [9.72e+02, 2.00e+00, 1.00e+00, 7.30e+01],\n",
    "       [1.10e+03, 3.00e+00, 1.00e+00, 3.70e+01],\n",
    "       [1.00e+03, 2.00e+00, 1.00e+00, 5.10e+01],\n",
    "       [9.04e+02, 3.00e+00, 1.00e+00, 5.50e+01],\n",
    "       [1.69e+03, 3.00e+00, 1.00e+00, 1.30e+01],\n",
    "       [1.07e+03, 2.00e+00, 1.00e+00, 1.00e+02],\n",
    "       [1.42e+03, 3.00e+00, 2.00e+00, 1.90e+01],\n",
    "       [1.16e+03, 3.00e+00, 1.00e+00, 5.20e+01],\n",
    "       [1.94e+03, 3.00e+00, 2.00e+00, 1.20e+01],\n",
    "       [1.22e+03, 2.00e+00, 2.00e+00, 7.40e+01],\n",
    "       [2.48e+03, 4.00e+00, 2.00e+00, 1.60e+01],\n",
    "       [1.20e+03, 2.00e+00, 1.00e+00, 1.80e+01],\n",
    "       [1.84e+03, 3.00e+00, 2.00e+00, 2.00e+01],\n",
    "       [1.85e+03, 3.00e+00, 2.00e+00, 5.70e+01],\n",
    "       [1.66e+03, 3.00e+00, 2.00e+00, 1.90e+01],\n",
    "       [1.10e+03, 2.00e+00, 2.00e+00, 9.70e+01],\n",
    "       [1.78e+03, 3.00e+00, 2.00e+00, 2.80e+01],\n",
    "       [2.03e+03, 4.00e+00, 2.00e+00, 4.50e+01],\n",
    "       [1.78e+03, 4.00e+00, 2.00e+00, 1.07e+02],\n",
    "       [1.07e+03, 2.00e+00, 1.00e+00, 1.00e+02],\n",
    "       [1.55e+03, 3.00e+00, 1.00e+00, 1.60e+01],\n",
    "       [1.95e+03, 3.00e+00, 2.00e+00, 1.60e+01],\n",
    "       [1.22e+03, 2.00e+00, 2.00e+00, 1.20e+01],\n",
    "       [1.62e+03, 3.00e+00, 1.00e+00, 1.60e+01],\n",
    "       [8.16e+02, 2.00e+00, 1.00e+00, 5.80e+01],\n",
    "       [1.35e+03, 3.00e+00, 1.00e+00, 2.10e+01],\n",
    "       [1.57e+03, 3.00e+00, 1.00e+00, 1.40e+01],\n",
    "       [1.49e+03, 3.00e+00, 1.00e+00, 5.70e+01],\n",
    "       [1.51e+03, 2.00e+00, 1.00e+00, 1.60e+01],\n",
    "       [1.10e+03, 3.00e+00, 1.00e+00, 2.70e+01],\n",
    "       [1.76e+03, 3.00e+00, 2.00e+00, 2.40e+01],\n",
    "       [1.21e+03, 2.00e+00, 1.00e+00, 1.40e+01],\n",
    "       [1.47e+03, 3.00e+00, 2.00e+00, 2.40e+01],\n",
    "       [1.77e+03, 3.00e+00, 2.00e+00, 8.40e+01],\n",
    "       [1.65e+03, 3.00e+00, 1.00e+00, 1.90e+01],\n",
    "       [1.03e+03, 3.00e+00, 1.00e+00, 6.00e+01],\n",
    "       [1.12e+03, 2.00e+00, 2.00e+00, 1.60e+01],\n",
    "       [1.15e+03, 3.00e+00, 1.00e+00, 6.20e+01],\n",
    "       [8.16e+02, 2.00e+00, 1.00e+00, 3.90e+01],\n",
    "       [1.04e+03, 3.00e+00, 1.00e+00, 2.50e+01],\n",
    "       [1.39e+03, 3.00e+00, 1.00e+00, 6.40e+01],\n",
    "       [1.60e+03, 3.00e+00, 2.00e+00, 2.90e+01],\n",
    "       [1.22e+03, 3.00e+00, 1.00e+00, 6.30e+01],\n",
    "       [1.07e+03, 2.00e+00, 1.00e+00, 1.00e+02],\n",
    "       [2.60e+03, 4.00e+00, 2.00e+00, 2.20e+01],\n",
    "       [1.43e+03, 3.00e+00, 1.00e+00, 5.90e+01],\n",
    "       [2.09e+03, 3.00e+00, 2.00e+00, 2.60e+01],\n",
    "       [1.79e+03, 4.00e+00, 2.00e+00, 4.90e+01],\n",
    "       [1.48e+03, 3.00e+00, 2.00e+00, 1.60e+01],\n",
    "       [1.04e+03, 3.00e+00, 1.00e+00, 2.50e+01],\n",
    "       [1.43e+03, 3.00e+00, 1.00e+00, 2.20e+01],\n",
    "       [1.16e+03, 3.00e+00, 1.00e+00, 5.30e+01],\n",
    "       [1.55e+03, 3.00e+00, 2.00e+00, 1.20e+01],\n",
    "       [1.98e+03, 3.00e+00, 2.00e+00, 2.20e+01],\n",
    "       [1.06e+03, 3.00e+00, 1.00e+00, 5.30e+01],\n",
    "       [1.18e+03, 2.00e+00, 1.00e+00, 9.90e+01],\n",
    "       [1.36e+03, 2.00e+00, 1.00e+00, 1.70e+01],\n",
    "       [9.60e+02, 3.00e+00, 1.00e+00, 5.10e+01],\n",
    "       [1.46e+03, 3.00e+00, 2.00e+00, 1.60e+01],\n",
    "       [1.45e+03, 3.00e+00, 2.00e+00, 2.50e+01],\n",
    "       [1.21e+03, 2.00e+00, 1.00e+00, 1.50e+01],\n",
    "       [1.55e+03, 3.00e+00, 2.00e+00, 1.60e+01],\n",
    "       [8.82e+02, 3.00e+00, 1.00e+00, 4.90e+01],\n",
    "       [2.03e+03, 4.00e+00, 2.00e+00, 4.50e+01],\n",
    "       [1.04e+03, 3.00e+00, 1.00e+00, 6.20e+01],\n",
    "       [1.62e+03, 3.00e+00, 1.00e+00, 1.60e+01],\n",
    "       [8.03e+02, 2.00e+00, 1.00e+00, 8.00e+01],\n",
    "       [1.43e+03, 3.00e+00, 2.00e+00, 2.10e+01],\n",
    "       [1.66e+03, 3.00e+00, 1.00e+00, 6.10e+01],\n",
    "       [1.54e+03, 3.00e+00, 1.00e+00, 1.60e+01],\n",
    "       [9.48e+02, 3.00e+00, 1.00e+00, 5.30e+01],\n",
    "       [1.22e+03, 2.00e+00, 2.00e+00, 1.20e+01],\n",
    "       [1.43e+03, 2.00e+00, 1.00e+00, 4.30e+01],\n",
    "       [1.66e+03, 3.00e+00, 2.00e+00, 1.90e+01],\n",
    "       [1.21e+03, 3.00e+00, 1.00e+00, 2.00e+01],\n",
    "       [1.05e+03, 2.00e+00, 1.00e+00, 6.50e+01]])\n",
    "\n",
    "y_train = np.array([300.  , 509.8 , 394.  , 540.  , 415.  , 230.  , 560.  , 294.  ,\n",
    "       718.2 , 200.  , 302.  , 468.  , 374.2 , 388.  , 282.  , 311.8 ,\n",
    "       401.  , 449.8 , 301.  , 502.  , 340.  , 400.28, 572.  , 264.  ,\n",
    "       304.  , 298.  , 219.8 , 490.7 , 216.96, 368.2 , 280.  , 526.87,\n",
    "       237.  , 562.43, 369.8 , 460.  , 374.  , 390.  , 158.  , 426.  ,\n",
    "       390.  , 277.77, 216.96, 425.8 , 504.  , 329.  , 464.  , 220.  ,\n",
    "       358.  , 478.  , 334.  , 426.98, 290.  , 463.  , 390.8 , 354.  ,\n",
    "       350.  , 460.  , 237.  , 288.3 , 282.  , 249.  , 304.  , 332.  ,\n",
    "       351.8 , 310.  , 216.96, 666.34, 330.  , 480.  , 330.3 , 348.  ,\n",
    "       304.  , 384.  , 316.  , 430.4 , 450.  , 284.  , 275.  , 414.  ,\n",
    "       258.  , 378.  , 350.  , 412.  , 373.  , 225.  , 390.  , 267.4 ,\n",
    "       464.  , 174.  , 340.  , 430.  , 440.  , 216.  , 329.  , 388.  ,\n",
    "       390.  , 356.  , 257.8 ])"
   ]
  },
  {
   "cell_type": "code",
   "execution_count": 8,
   "id": "4e9ed333",
   "metadata": {},
   "outputs": [],
   "source": [
    "def load_data():\n",
    "    return X_train, y_train"
   ]
  },
  {
   "cell_type": "code",
   "execution_count": 9,
   "id": "442ecaf5",
   "metadata": {},
   "outputs": [],
   "source": [
    "def graphing(x, y):\n",
    "    for i in range(x.shape[1]):\n",
    "        x_plot = x[: , i]\n",
    "        y_plot = y\n",
    "        plt.scatter(x_plot, y_plot)\n",
    "        plt.ylabel(\"Price(1000s) dollar\")\n",
    "        if i == 0 :\n",
    "            plt.xlabel(\"size(sqft)\")\n",
    "        elif i == 1:\n",
    "            plt.xlabel(\"bedrooms\")\n",
    "        elif i == 2:\n",
    "            plt.xlabel(\"floors\")\n",
    "        elif i == 3:\n",
    "            plt.xlabel(\"age\")\n",
    "        plt.figure(figsize= (.5,1), dpi=10)\n",
    "        plt.show()\n",
    "    "
   ]
  },
  {
   "cell_type": "code",
   "execution_count": 10,
   "id": "c3ab1d25",
   "metadata": {},
   "outputs": [],
   "source": [
    "# graphing(X_train, y_train)"
   ]
  },
  {
   "cell_type": "markdown",
   "id": "ed26e64e",
   "metadata": {},
   "source": [
    "#### Cost function"
   ]
  },
  {
   "cell_type": "code",
   "execution_count": 11,
   "id": "3bd2e0b3",
   "metadata": {},
   "outputs": [],
   "source": [
    "def computeCost(x, y, w, b):\n",
    "    m = x.shape[0]\n",
    "    totalCost = 0\n",
    "    for i in range(m):\n",
    "        y_hat = np.dot(w,x[i]) + b\n",
    "        errorSq =  (y_hat - y[i]) ** 2\n",
    "        totalCost += errorSq\n",
    "        \n",
    "    cost = totalCost / (2*m)\n",
    "    return cost\n",
    "        "
   ]
  },
  {
   "cell_type": "code",
   "execution_count": 12,
   "id": "e93cff58",
   "metadata": {},
   "outputs": [
    {
     "data": {
      "text/plain": [
       "95571.3904487031"
      ]
     },
     "execution_count": 12,
     "metadata": {},
     "output_type": "execute_result"
    }
   ],
   "source": [
    "w_init = [5.46272114e-01, 9.95942300e-04, 5.13326600e-04, 1.22787139e-02]\n",
    "b_init = 0.0003595245\n",
    "\n",
    "cost = computeCost(X_train,y_train,w_init,b_init)\n",
    "cost"
   ]
  },
  {
   "cell_type": "markdown",
   "id": "6adc4f5c",
   "metadata": {},
   "source": [
    "### Defining Gradient Descent"
   ]
  },
  {
   "cell_type": "code",
   "execution_count": 13,
   "id": "4fa8d922",
   "metadata": {},
   "outputs": [],
   "source": [
    "def derivative(x,y,w,b):\n",
    "    m = x.shape[0]\n",
    "    n = x.shape[1]\n",
    "    dj_dw = np.zeros((n))\n",
    "    dj_db = 0\n",
    "    for i in range(m):\n",
    "        predicted_value = np.dot(w,x[i,:]) + b\n",
    "        for j in range(n):\n",
    "            err = (predicted_value - y[i]) * x[i, j]\n",
    "            dj_dw[j] += err\n",
    "            \n",
    "        dj_db += predicted_value - y[i]\n",
    "    dj_dw = dj_dw / m\n",
    "    dj_db = dj_db / m\n",
    "    \n",
    "    return dj_dw, dj_db\n",
    "            "
   ]
  },
  {
   "cell_type": "code",
   "execution_count": 14,
   "id": "45623366",
   "metadata": {},
   "outputs": [],
   "source": [
    "def gradient_descent(x,y,w_in,b_in,derivative,iteration,computecost,alpha):\n",
    "    j_history = []\n",
    "    w = copy.deepcopy(w_in)\n",
    "    b = copy.deepcopy(b_in)\n",
    "    \n",
    "    for i in range(iteration):\n",
    "        \n",
    "        dj_dw, dj_db = derivative(x,y,w,b)\n",
    "        w = w - (alpha * dj_dw)      # w is a vector\n",
    "        b = b - (alpha * dj_db)\n",
    "        \n",
    "        j_history.append(computecost(x,y,w,b))\n",
    "    \n",
    "    return b,w, j_history"
   ]
  },
  {
   "cell_type": "code",
   "execution_count": 15,
   "id": "ce436344",
   "metadata": {},
   "outputs": [
    {
     "data": {
      "text/plain": [
       "(4,)"
      ]
     },
     "execution_count": 15,
     "metadata": {},
     "output_type": "execute_result"
    }
   ],
   "source": [
    "b_init = 0.\n",
    "w_init = np.zeros(4)\n",
    "iteration = 10\n",
    "alpha = 9.9e-7\n",
    "b_value, w_value, cost_value = gradient_descent(X_train, y_train,w_init,b_init,derivative,iteration, computeCost,alpha)\n",
    "w_value.shape"
   ]
  },
  {
   "cell_type": "code",
   "execution_count": 16,
   "id": "cf843aee",
   "metadata": {
    "scrolled": false
   },
   "outputs": [
    {
     "name": "stdout",
     "output_type": "stream",
     "text": [
      "-0.000521403796602646\n",
      "[-0.86724558 -0.00165786 -0.00091072 -0.02717454]\n",
      "[95571.39044870318, 128166.31406127565, 172064.38874957545, 231185.22665687796, 310807.65032345476, 418041.0283277199, 562460.0567685153, 756959.6649736401, 1018906.3782772357, 1371688.9407749288]\n"
     ]
    }
   ],
   "source": [
    "print(b_value)\n",
    "print(w_value)\n",
    "print(cost_value)"
   ]
  },
  {
   "cell_type": "code",
   "execution_count": 17,
   "id": "421b0ac2",
   "metadata": {},
   "outputs": [],
   "source": [
    "def run_gradient_descent(x,y,iterations,alphas):\n",
    "    \n",
    "    m,n = x.shape\n",
    "    w_init = np.zeros((n))\n",
    "    b_init = 0.0\n",
    "    \n",
    "    b_val, w_val, cost_val = gradient_descent(x, y, w_init, b_init, derivative, iterations, computeCost,alphas)\n",
    "    return w_val, b_val, cost_val"
   ]
  },
  {
   "cell_type": "code",
   "execution_count": 18,
   "id": "d8345160",
   "metadata": {},
   "outputs": [
    {
     "data": {
      "text/plain": [
       "-0.000521403796602646"
      ]
     },
     "execution_count": 18,
     "metadata": {},
     "output_type": "execute_result"
    }
   ],
   "source": [
    "w_value, b_value, cost_value = run_gradient_descent(X_train,y_train,iterations=10,alphas=9.9e-7)\n",
    "b_value"
   ]
  },
  {
   "cell_type": "markdown",
   "id": "8d78a53f",
   "metadata": {},
   "source": [
    "### converting scientific notation to an integer for plotting "
   ]
  },
  {
   "cell_type": "code",
   "execution_count": 19,
   "id": "82bce823",
   "metadata": {},
   "outputs": [],
   "source": [
    "# cost = []\n",
    "# for i in cost_value:\n",
    "#     cost.append(int(i))"
   ]
  },
  {
   "cell_type": "markdown",
   "id": "cf6d5974",
   "metadata": {},
   "source": [
    "### plotting cost vs iteration"
   ]
  },
  {
   "cell_type": "code",
   "execution_count": 20,
   "id": "a51bc703",
   "metadata": {},
   "outputs": [],
   "source": [
    "# iteration = [i for i in range(len(cost_value))]\n",
    "# Cost_value = cost\n",
    "# plt.plot(range(len(cost_value)), Cost_value)\n",
    "# plt.show()"
   ]
  },
  {
   "cell_type": "markdown",
   "id": "6f975c73",
   "metadata": {},
   "source": [
    "### choosing alpha "
   ]
  },
  {
   "cell_type": "code",
   "execution_count": 21,
   "id": "7c3074b2",
   "metadata": {},
   "outputs": [],
   "source": [
    "# b_init = 0.\n",
    "# w_init = np.zeros(4)\n",
    "# alpha = [9e-7]\n",
    "# iteration = 10"
   ]
  },
  {
   "cell_type": "code",
   "execution_count": 22,
   "id": "d3595373",
   "metadata": {},
   "outputs": [],
   "source": [
    "# cost_value = []\n",
    "# for i in range(len(alpha)):\n",
    "#     b_value, w_value, cost_value = gradient_descent(X_train, y_train,w_init,b_init,derivative,iteration, computeCost,alpha[i])\n",
    "#     cost1.append(cost_value)\n",
    "#     x = range(len(cost_value))\n",
    "#     plt.plot(x, cost_value, label = alpha[i])\n",
    "# plt.show()"
   ]
  },
  {
   "cell_type": "code",
   "execution_count": 23,
   "id": "a285ce38",
   "metadata": {},
   "outputs": [],
   "source": [
    "b_init = 0.\n",
    "w_init = np.zeros(4)\n",
    "alpha = [1e-7, 0.0000009]\n",
    "iteration = 10"
   ]
  },
  {
   "cell_type": "code",
   "execution_count": 24,
   "id": "11388b3b",
   "metadata": {},
   "outputs": [],
   "source": [
    "cost0 = []\n",
    "def chossingalpha(x,y,w,b,derivative,iteration,computeCost,alpha):\n",
    "    for i in range(len(alpha)):\n",
    "        _, _, cost_value = gradient_descent(X_train, y_train,w_init,b_init,derivative,iteration, computeCost,alpha[i])\n",
    "        cost0.append(cost_value)\n",
    "        x = range(len(cost_value))\n",
    "        plt.plot(x, cost_value, label= alpha[i])\n",
    "        \n",
    "        plt.show()\n",
    "        \n",
    "    return cost0"
   ]
  },
  {
   "cell_type": "code",
   "execution_count": 25,
   "id": "d11deb79",
   "metadata": {
    "scrolled": true
   },
   "outputs": [],
   "source": [
    "# cost0 = chossingalpha(X_train, y_train,w_init,b_init,derivative, iteration, computeCost, alpha)"
   ]
  },
  {
   "cell_type": "code",
   "execution_count": null,
   "id": "65a62257",
   "metadata": {},
   "outputs": [],
   "source": []
  },
  {
   "cell_type": "markdown",
   "id": "0467728d",
   "metadata": {},
   "source": [
    "### feature Scaling  using Z Score Normalization"
   ]
  },
  {
   "cell_type": "code",
   "execution_count": 26,
   "id": "00fa04f5",
   "metadata": {},
   "outputs": [],
   "source": [
    "# defining Z Score Normalization\n",
    "def zscore_norm(X):\n",
    "    \n",
    "    mu = np.mean(X, axis=0)\n",
    "    sigma = np.std(X, axis=0)\n",
    "    \n",
    "    zscore = (X - mu) / sigma\n",
    "    return mu, sigma, zscore"
   ]
  },
  {
   "cell_type": "code",
   "execution_count": 27,
   "id": "933b1400",
   "metadata": {},
   "outputs": [],
   "source": [
    "mu, sigma, zscore = zscore_norm(X_train)\n",
    "# comparing peak to peak raw and normalized\n",
    "# print(f\"peak to peak raw by columns {np.ptp(X_train, axis=0)} \")\n",
    "# print(f\"peak to peak raw by columns {np.ptp(zscore, axis=0)} \")"
   ]
  },
  {
   "cell_type": "markdown",
   "id": "6ae77169",
   "metadata": {},
   "source": [
    "### predicting prices using normalized data"
   ]
  },
  {
   "cell_type": "code",
   "execution_count": 28,
   "id": "c942b817",
   "metadata": {},
   "outputs": [],
   "source": [
    "b_init = 0.\n",
    "w_init = np.zeros(4)\n",
    "iteration =  1000\n",
    "alpha = 1.0e-1\n",
    "b_value, w_value, cost_value = gradient_descent(zscore, y_train,w_init,b_init,derivative,iteration, computeCost,alpha)"
   ]
  },
  {
   "cell_type": "code",
   "execution_count": 29,
   "id": "904653b0",
   "metadata": {},
   "outputs": [],
   "source": [
    "# print(b_value)\n",
    "# print(w_value)\n",
    "# print(cost_value)"
   ]
  },
  {
   "cell_type": "code",
   "execution_count": 30,
   "id": "4814a0ba",
   "metadata": {},
   "outputs": [],
   "source": [
    "# w_value\n",
    "# b_value"
   ]
  },
  {
   "cell_type": "code",
   "execution_count": null,
   "id": "a0d74382",
   "metadata": {},
   "outputs": [],
   "source": []
  },
  {
   "cell_type": "markdown",
   "id": "96f25e04",
   "metadata": {},
   "source": [
    "### model"
   ]
  },
  {
   "cell_type": "code",
   "execution_count": 31,
   "id": "a4c37057",
   "metadata": {},
   "outputs": [],
   "source": [
    "def model(x,w,b):\n",
    "    m= zscore.shape[0]\n",
    "    predicted_y = np.zeros(m)\n",
    "    for i in range(m):\n",
    "        predicted_y[i] = np.dot(w,x[i]) + b\n",
    "    \n",
    "    return predicted_y\n",
    "        "
   ]
  },
  {
   "cell_type": "code",
   "execution_count": 36,
   "id": "4d038d15",
   "metadata": {},
   "outputs": [],
   "source": [
    "# predicted = model(zscore,w_value,b_value)\n",
    "# print(w_value)\n",
    "# print(b_value)\n",
    "# predicted"
   ]
  },
  {
   "cell_type": "markdown",
   "id": "bb1e2e90",
   "metadata": {},
   "source": [
    "### Actual vs Predicted"
   ]
  },
  {
   "cell_type": "code",
   "execution_count": null,
   "id": "5788fbc8",
   "metadata": {},
   "outputs": [],
   "source": []
  },
  {
   "cell_type": "markdown",
   "id": "5aee3c75",
   "metadata": {},
   "source": [
    "\n"
   ]
  },
  {
   "cell_type": "code",
   "execution_count": 33,
   "id": "4829daf1",
   "metadata": {},
   "outputs": [],
   "source": [
    "# for i in range(X_train.shape[1]):\n",
    "#     plt.scatter(X_train[:, i], y_train)\n",
    "#     plt.scatter(X_train[:, i], predicted)\n",
    "#     plt.ylabel(\"Price(1000s) dollar\")\n",
    "#     if i == 0 :\n",
    "#         plt.xlabel(\"size(sqft)\")\n",
    "#     elif i == 1:\n",
    "#         plt.xlabel(\"bedrooms\")\n",
    "#     elif i == 2:\n",
    "#         plt.xlabel(\"floors\")\n",
    "#     elif i == 3:\n",
    "#         plt.xlabel(\"age\")\n",
    "#     plt.figure(figsize= (.5,1), dpi=10)\n",
    "#     plt.show()\n",
    "    "
   ]
  },
  {
   "cell_type": "markdown",
   "id": "e3779371",
   "metadata": {},
   "source": [
    "### predicting new house prices"
   ]
  },
  {
   "cell_type": "code",
   "execution_count": 34,
   "id": "8dfb6bda",
   "metadata": {},
   "outputs": [],
   "source": [
    "# x_house = np.array([1200, 3, 1, 40])\n",
    "\n",
    "# # Any predictions using the parameters learned from a normalized training set must also be normalized.\n",
    "# # can use previous mean and sigma, don't need to find mean again with new data\n",
    "# x_norm = (x_house - mu) / sigma\n",
    "# print(x_norm)\n",
    "\n",
    "# house_price = np.dot(w_value, x_norm) + b_value\n",
    "# print(f\"estimates price will be: ${house_price * 1000}\")\n"
   ]
  },
  {
   "cell_type": "code",
   "execution_count": null,
   "id": "3e0eade8",
   "metadata": {},
   "outputs": [],
   "source": []
  },
  {
   "cell_type": "code",
   "execution_count": null,
   "id": "5473a64f",
   "metadata": {},
   "outputs": [],
   "source": []
  },
  {
   "cell_type": "code",
   "execution_count": null,
   "id": "06c9fd52",
   "metadata": {},
   "outputs": [],
   "source": []
  },
  {
   "cell_type": "code",
   "execution_count": null,
   "id": "cfa8b8a0",
   "metadata": {},
   "outputs": [],
   "source": []
  },
  {
   "cell_type": "code",
   "execution_count": null,
   "id": "f38abebd",
   "metadata": {},
   "outputs": [],
   "source": []
  },
  {
   "cell_type": "code",
   "execution_count": null,
   "id": "021ead32",
   "metadata": {},
   "outputs": [],
   "source": []
  },
  {
   "cell_type": "code",
   "execution_count": null,
   "id": "4a179823",
   "metadata": {},
   "outputs": [],
   "source": []
  },
  {
   "cell_type": "code",
   "execution_count": null,
   "id": "c8685230",
   "metadata": {},
   "outputs": [],
   "source": []
  }
 ],
 "metadata": {
  "kernelspec": {
   "display_name": "Python 3 (ipykernel)",
   "language": "python",
   "name": "python3"
  },
  "language_info": {
   "codemirror_mode": {
    "name": "ipython",
    "version": 3
   },
   "file_extension": ".py",
   "mimetype": "text/x-python",
   "name": "python",
   "nbconvert_exporter": "python",
   "pygments_lexer": "ipython3",
   "version": "3.11.3"
  }
 },
 "nbformat": 4,
 "nbformat_minor": 5
}
