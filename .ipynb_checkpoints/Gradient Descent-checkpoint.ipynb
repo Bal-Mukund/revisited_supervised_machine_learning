{
 "cells": [
  {
   "cell_type": "code",
   "execution_count": 54,
   "id": "a2c80a52",
   "metadata": {},
   "outputs": [],
   "source": [
    "import numpy as np\n",
    "import math"
   ]
  },
  {
   "cell_type": "code",
   "execution_count": 55,
   "id": "2161083d",
   "metadata": {},
   "outputs": [],
   "source": [
    "# Load our data set\n",
    "x_train = np.array([1.0, 2.0])   #features\n",
    "y_train = np.array([300.0, 500.0])"
   ]
  },
  {
   "cell_type": "code",
   "execution_count": 56,
   "id": "1b290f84",
   "metadata": {},
   "outputs": [
    {
     "data": {
      "text/plain": [
       "(-650.0, -400.0)"
      ]
     },
     "execution_count": 56,
     "metadata": {},
     "output_type": "execute_result"
    }
   ],
   "source": [
    "def derivative(x,y,w,b):\n",
    "    d_dw = 0\n",
    "    d_db = 0\n",
    "    m = x.shape[0]\n",
    "    for i in range(m):\n",
    "        y_hat = w * x[i] + b\n",
    "        dj_dw = (y_hat - y[i]) * x[i]\n",
    "        dj_db = y_hat - y[i]\n",
    "        d_dw += dj_dw\n",
    "        d_db += dj_db\n",
    "    \n",
    "    d_dw = d_dw / m\n",
    "    d_db = d_db / m\n",
    "    \n",
    "    return d_dw, d_db\n",
    "derivative(x_train, y_train, 0, 0)"
   ]
  },
  {
   "cell_type": "code",
   "execution_count": 57,
   "id": "4391dc71",
   "metadata": {},
   "outputs": [
    {
     "data": {
      "text/plain": [
       "85000.0"
      ]
     },
     "execution_count": 57,
     "metadata": {},
     "output_type": "execute_result"
    }
   ],
   "source": [
    "def computeCost(x,y,w,b):\n",
    "    error = 0\n",
    "    m = x.shape[0]\n",
    "    for i in range(m):\n",
    "        y_hat = w* x[i] + b\n",
    "        errorSq = (y_hat - y[i]) ** 2\n",
    "        error += errorSq\n",
    "    \n",
    "    totoalcost = error / (2*m)\n",
    "    return totoalcost    \n",
    "computeCost(x_train, y_train, 0, 0)"
   ]
  },
  {
   "cell_type": "code",
   "execution_count": 60,
   "id": "e70385e5",
   "metadata": {},
   "outputs": [],
   "source": [
    "def computeGradient(x,y,w_in,b_in, alpha, num_iters,Diffferne):\n",
    "    \n",
    "    J_history = []\n",
    "    p_history = []\n",
    "    \n",
    "    w = w_in\n",
    "    b = b_in\n",
    "    \n",
    "    for i in range(num_iters):\n",
    "        dj_dw, dj_db = derivative(x,y,w,b)\n",
    "        \n",
    "        b = b - alpha * dj_db\n",
    "        w = w - alpha * dj_dw\n",
    "        \n",
    "    # Save cost J at each iteration\n",
    "#         if i<100000:      # prevent resource exhaustion \n",
    "#             J_history.append( computeCost(x, y, w , b))\n",
    "#             p_history.append([w,b])\n",
    "#         # Print cost every at intervals 10 times or as many iterations if < 10\n",
    "#         if i% math.ceil(num_iters/10) == 0:\n",
    "#             print(f\"Iteration {i:4}: Cost {J_history[-1]:0.2e} \",\n",
    "#                   f\"dj_dw: {dj_dw: 0.3e}, dj_db: {dj_db: 0.3e}  \",\n",
    "#                   f\"w: {w: 0.3e}, b:{b: 0.5e}\")\n",
    " \n",
    "    return w, b, J_history, p_history #return w and J,w history for graphing\n",
    "    "
   ]
  },
  {
   "cell_type": "code",
   "execution_count": 61,
   "id": "2ca50775",
   "metadata": {},
   "outputs": [
    {
     "name": "stdout",
     "output_type": "stream",
     "text": [
      "(w,b) found by gradient descent: (199.9929,100.0116)\n",
      "[]\n"
     ]
    }
   ],
   "source": [
    "# initialize parameters\n",
    "w_init = 0\n",
    "b_init = 0\n",
    "# some gradient descent settings\n",
    "iterations = 10000\n",
    "tmp_alpha = 1.0e-2\n",
    "# computeGradient(derivative, x_train, y_train, w_init, b_init, tmp_alpha, iterations)\n",
    "w_final, b_final, J_hist, p_hist = computeGradient(x_train ,y_train, w_init, b_init, tmp_alpha, \n",
    "                                                    iterations, derivative)\n",
    "print(f\"(w,b) found by gradient descent: ({w_final:8.4f},{b_final:8.4f})\")\n",
    "print(J_hist)"
   ]
  },
  {
   "cell_type": "code",
   "execution_count": null,
   "id": "5a968aec",
   "metadata": {},
   "outputs": [],
   "source": []
  },
  {
   "cell_type": "code",
   "execution_count": 38,
   "id": "fe76cba8",
   "metadata": {},
   "outputs": [],
   "source": [
    "# def computeGradient(x,y,w_in,b_in, num_iter, alpha, cost_function, gradient_function):\n",
    "    \n",
    "#     j_history = []\n",
    "#     p_history = []\n",
    "#     w = w_in\n",
    "#     b = b_in\n",
    "    \n",
    "#     for i in range(num_iter):\n",
    "#         dj_dw, dj_db = derivative(x,y,w,b)\n",
    "\n",
    "#         # since we already have a W from assumption we will calculate value of \"b\" first\n",
    "#         b = b - alpha * dj_db\n",
    "#         w = w - alpha * dj_dw\n",
    "        \n",
    "#         if i < 100000:      # prevent resource exhaustion \n",
    "#             j_history.append(computeCost(x,y,w,b))\n",
    "#             p_history.append([w,b])\n",
    "            \n",
    "#     return w, b "
   ]
  },
  {
   "cell_type": "code",
   "execution_count": 39,
   "id": "6fa81897",
   "metadata": {
    "scrolled": true
   },
   "outputs": [],
   "source": [
    "# # initialize parameters\n",
    "# w_init = 0\n",
    "# b_init = 0\n",
    "# # some gradient descent settings\n",
    "# iterations = 10000\n",
    "# tmp_alpha = 1.0e-2\n",
    "# # run gradient descent\n",
    "# w_final, b_final, J_hist, p_hist = computeGradient(x_train ,y_train, w_init, b_init, tmp_alpha, \n",
    "#                                                     iterations, computeCost, computeGradient)\n",
    "# print(f\"(w,b) found by gradient descent: ({w_final:8.4f},{b_final:8.4f})\")\n",
    "# print(J_hist)"
   ]
  },
  {
   "cell_type": "code",
   "execution_count": 62,
   "id": "9093e2e2",
   "metadata": {},
   "outputs": [],
   "source": [
    "def gradient_descent(x,y,w,b, differn,num_iters ):\n",
    "    w = w\n",
    "    b = b\n",
    "    for i in range(num_iters):\n",
    "        dj_dw , dj_db = derivative(x,y,w,b)"
   ]
  },
  {
   "cell_type": "code",
   "execution_count": null,
   "id": "4a0088dc",
   "metadata": {},
   "outputs": [],
   "source": []
  }
 ],
 "metadata": {
  "kernelspec": {
   "display_name": "Python 3 (ipykernel)",
   "language": "python",
   "name": "python3"
  },
  "language_info": {
   "codemirror_mode": {
    "name": "ipython",
    "version": 3
   },
   "file_extension": ".py",
   "mimetype": "text/x-python",
   "name": "python",
   "nbconvert_exporter": "python",
   "pygments_lexer": "ipython3",
   "version": "3.11.3"
  }
 },
 "nbformat": 4,
 "nbformat_minor": 5
}
