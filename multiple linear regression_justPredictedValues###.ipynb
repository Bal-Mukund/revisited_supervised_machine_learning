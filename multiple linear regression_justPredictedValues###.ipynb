{
 "cells": [
  {
   "cell_type": "code",
   "execution_count": 3,
   "id": "ef5b5f31",
   "metadata": {},
   "outputs": [],
   "source": [
    "import numpy as np"
   ]
  },
  {
   "cell_type": "code",
   "execution_count": 4,
   "id": "6ecb26a4",
   "metadata": {},
   "outputs": [],
   "source": [
    "x_init = np.array([[2104, 5, 1, 45], [1416, 3, 2, 40], [852, 2, 1, 35]])\n",
    "y_init = np.array([460, 232, 178])\n",
    "w_init = np.array([0.3913  3535, 18.75376741, -53.36032453, -26.42131618])\n",
    "b_init = 785.1811367994083"
   ]
  },
  {
   "cell_type": "code",
   "execution_count": 5,
   "id": "323d1ba0",
   "metadata": {},
   "outputs": [],
   "source": [
    "# predicted values using for loop only\n",
    "def model(x,y,w,b):\n",
    "    m = x.shape[0]\n",
    "    predict = []\n",
    "    for i in range(m):\n",
    "        x_i = x[i]\n",
    "        value = 0\n",
    "        for j in range(len(x_i)):\n",
    "            value += x_i[j] * w[j] \n",
    "            \n",
    "        value += b\n",
    "        predict.append(value)\n",
    "    return predict"
   ]
  },
  {
   "cell_type": "code",
   "execution_count": 6,
   "id": "8e3faab2",
   "metadata": {},
   "outputs": [
    {
     "data": {
      "text/plain": [
       "[459.9999976194083, 231.9999983694081, 177.99999898940814]"
      ]
     },
     "execution_count": 6,
     "metadata": {},
     "output_type": "execute_result"
    }
   ],
   "source": [
    "model(x_init,y_init,w_init,b_init)"
   ]
  },
  {
   "cell_type": "code",
   "execution_count": 11,
   "id": "5099f23f",
   "metadata": {},
   "outputs": [],
   "source": [
    "# predicting values using vectorization\n",
    "def model1(x,y,w,b):\n",
    "    m = x.shape[0]\n",
    "    predicted = []\n",
    "    for i in range(m):\n",
    "        value = np.dot(x[i],w) + b\n",
    "        predicted.append(value)\n",
    "    return predicted"
   ]
  },
  {
   "cell_type": "code",
   "execution_count": 12,
   "id": "83e3ed08",
   "metadata": {},
   "outputs": [
    {
     "data": {
      "text/plain": [
       "[459.9999976194082, 231.99999836940822, 177.99999898940825]"
      ]
     },
     "execution_count": 12,
     "metadata": {},
     "output_type": "execute_result"
    }
   ],
   "source": [
    "model1(x_init,y_init,w_init,b_init)"
   ]
  },
  {
   "cell_type": "code",
   "execution_count": null,
   "id": "dd261920",
   "metadata": {},
   "outputs": [],
   "source": []
  },
  {
   "cell_type": "code",
   "execution_count": null,
   "id": "0dc7db88",
   "metadata": {},
   "outputs": [],
   "source": []
  }
 ],
 "metadata": {
  "kernelspec": {
   "display_name": "Python 3 (ipykernel)",
   "language": "python",
   "name": "python3"
  },
  "language_info": {
   "codemirror_mode": {
    "name": "ipython",
    "version": 3
   },
   "file_extension": ".py",
   "mimetype": "text/x-python",
   "name": "python",
   "nbconvert_exporter": "python",
   "pygments_lexer": "ipython3",
   "version": "3.11.3"
  }
 },
 "nbformat": 4,
 "nbformat_minor": 5
}
