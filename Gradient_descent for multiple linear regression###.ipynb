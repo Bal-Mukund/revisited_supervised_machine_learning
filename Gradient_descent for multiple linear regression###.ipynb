{
 "cells": [
  {
   "cell_type": "code",
   "execution_count": 20,
   "id": "a9ed879d",
   "metadata": {},
   "outputs": [],
   "source": [
    "import numpy as np\n",
    "import copy"
   ]
  },
  {
   "cell_type": "code",
   "execution_count": 21,
   "id": "d4850466",
   "metadata": {},
   "outputs": [],
   "source": [
    "x_init = np.array([[2104, 5, 1, 45], [1416, 3, 2, 40], [852, 2, 1, 35]])\n",
    "y_init = np.array([460, 232, 178])\n",
    "w_init = np.array([0.39133535, 18.75376741, -53.36032453, -26.42131618])\n",
    "b_init = 785.1811367994083"
   ]
  },
  {
   "cell_type": "code",
   "execution_count": 22,
   "id": "0fa33200",
   "metadata": {},
   "outputs": [],
   "source": [
    "def computeGradient(x,y,w,b):\n",
    "    m = x.shape[0]\n",
    "    n = x.shape[1]\n",
    "    dj_dw = np.zeros((n,))\n",
    "    dj_db = 0\n",
    "    for i in range(m):\n",
    "        err = (np.dot(x[i],w) + b) - y[i]\n",
    "        for j in range(n):\n",
    "            dj_dw[j] += err * x[i,j]\n",
    "            \n",
    "            # here we are calculating the dj_dw and dj_db simultaneously\n",
    "        \n",
    "        dj_db += err\n",
    "    \n",
    "    dj_db = dj_db / m\n",
    "    dj_dw = dj_dw /m\n",
    "    \n",
    "    return dj_dw, dj_db"
   ]
  },
  {
   "cell_type": "code",
   "execution_count": 23,
   "id": "3ffa95e6",
   "metadata": {},
   "outputs": [
    {
     "data": {
      "text/plain": [
       "(array([-2.72623577e-03, -6.27197263e-06, -2.21745571e-06, -6.92403379e-05]),\n",
       " -1.6739251122999121e-06)"
      ]
     },
     "execution_count": 23,
     "metadata": {},
     "output_type": "execute_result"
    }
   ],
   "source": [
    "computeGradient(x_init,y_init,w_init,b_init)"
   ]
  },
  {
   "cell_type": "code",
   "execution_count": 28,
   "id": "96b41aaa",
   "metadata": {},
   "outputs": [],
   "source": [
    "def gradient_descent(x, y, w_in, b_in, alpha,iteration):\n",
    "    w = copy.deepcopy(w_in)\n",
    "    b = b_in\n",
    "    \n",
    "    for i in range(iteration):\n",
    "        dj_dw, dj_db = computeGradient(x,y,w,b)\n",
    "        # we are not doing simultaneous update here bcz we already have calculated the derivative simultaneously in the \n",
    "        # compute gradient function\n",
    "        w = w - alpha* dj_dw\n",
    "        b = b - alpha * dj_db\n",
    "        \n",
    "    return w, b"
   ]
  },
  {
   "cell_type": "code",
   "execution_count": 29,
   "id": "0f398a49",
   "metadata": {},
   "outputs": [
    {
     "data": {
      "text/plain": [
       "(array([ 0.20396569,  0.00374919, -0.0112487 , -0.0658614 ]),\n",
       " -0.0022354075309325345)"
      ]
     },
     "execution_count": 29,
     "metadata": {},
     "output_type": "execute_result"
    }
   ],
   "source": [
    "w = np.zeros_like(w_init)\n",
    "b = 0.\n",
    "iterations = 1000\n",
    "alpha = 5.0e-7\n",
    "gradient_descent(x_init, y_init, w, b, alpha, iterations)"
   ]
  },
  {
   "cell_type": "code",
   "execution_count": null,
   "id": "57c42e3e",
   "metadata": {},
   "outputs": [],
   "source": []
  }
 ],
 "metadata": {
  "kernelspec": {
   "display_name": "Python 3 (ipykernel)",
   "language": "python",
   "name": "python3"
  },
  "language_info": {
   "codemirror_mode": {
    "name": "ipython",
    "version": 3
   },
   "file_extension": ".py",
   "mimetype": "text/x-python",
   "name": "python",
   "nbconvert_exporter": "python",
   "pygments_lexer": "ipython3",
   "version": "3.11.3"
  }
 },
 "nbformat": 4,
 "nbformat_minor": 5
}
