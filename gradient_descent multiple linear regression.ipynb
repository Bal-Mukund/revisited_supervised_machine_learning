{
 "cells": [
  {
   "cell_type": "code",
   "execution_count": 3,
   "id": "a56ea02c",
   "metadata": {},
   "outputs": [],
   "source": [
    "import numpy as np"
   ]
  },
  {
   "cell_type": "code",
   "execution_count": 4,
   "id": "ea64e32b",
   "metadata": {},
   "outputs": [],
   "source": [
    "x_train = np.array([[2104, 5, 1, 45], [1416, 3, 2, 40], [852, 2, 1, 35]])\n",
    "y_train = np.array([460, 232, 178])"
   ]
  },
  {
   "cell_type": "code",
   "execution_count": 5,
   "id": "03f1b6ee",
   "metadata": {},
   "outputs": [
    {
     "name": "stdout",
     "output_type": "stream",
     "text": [
      "[[2104    5    1   45]\n",
      " [1416    3    2   40]\n",
      " [ 852    2    1   35]]\n",
      "[460 232 178]\n"
     ]
    }
   ],
   "source": [
    "print(x_train)\n",
    "print(y_train)"
   ]
  },
  {
   "cell_type": "code",
   "execution_count": 6,
   "id": "402d7f0b",
   "metadata": {},
   "outputs": [],
   "source": [
    "b_init = 785.1811367994083\n",
    "w_init = np.array([ 0.39133535, 18.75376741, -53.36032453, -26.42131618])"
   ]
  },
  {
   "cell_type": "code",
   "execution_count": 7,
   "id": "b66e5903",
   "metadata": {},
   "outputs": [],
   "source": [
    "def predictSingle(x,w,b):\n",
    "    n = x.shape[0]\n",
    "    v = 0\n",
    "    for i in range(n):\n",
    "        v+= x[i] * w[i]\n",
    "        \n",
    "    v += b\n",
    "    return v"
   ]
  },
  {
   "cell_type": "code",
   "execution_count": 8,
   "id": "5750466f",
   "metadata": {},
   "outputs": [
    {
     "data": {
      "text/plain": [
       "459.9999976194083"
      ]
     },
     "execution_count": 8,
     "metadata": {},
     "output_type": "execute_result"
    }
   ],
   "source": [
    "x_1 = x_train[0, :]\n",
    "w = w_init\n",
    "b = b_init\n",
    "predictSingle(x_1,w,b)"
   ]
  },
  {
   "cell_type": "code",
   "execution_count": 9,
   "id": "e96f3606",
   "metadata": {},
   "outputs": [],
   "source": [
    "def predictVector(x,w,b):\n",
    "    v = np.dot(x,w) + b\n",
    "    return v"
   ]
  },
  {
   "cell_type": "code",
   "execution_count": 10,
   "id": "2ab23052",
   "metadata": {},
   "outputs": [
    {
     "data": {
      "text/plain": [
       "459.9999976194082"
      ]
     },
     "execution_count": 10,
     "metadata": {},
     "output_type": "execute_result"
    }
   ],
   "source": [
    "predictVector(x_1,w,b)"
   ]
  },
  {
   "cell_type": "code",
   "execution_count": 15,
   "id": "2f0372f5",
   "metadata": {},
   "outputs": [],
   "source": [
    "def ComputeCost(x,y,w,b):\n",
    "    m = x.shape[0]\n",
    "    sqError = 0.0\n",
    "    for i in range(m):\n",
    "        error = (np.dot(x[i],w) + b) - y[i]\n",
    "        sqError += error ** 2\n",
    "    \n",
    "    cost = sqError / (2*m)\n",
    "    return cost\n",
    "        "
   ]
  },
  {
   "cell_type": "code",
   "execution_count": 16,
   "id": "2b36a543",
   "metadata": {},
   "outputs": [
    {
     "data": {
      "text/plain": [
       "1.5578904330213735e-12"
      ]
     },
     "execution_count": 16,
     "metadata": {},
     "output_type": "execute_result"
    }
   ],
   "source": [
    "ComputeCost(x_train,y_train,w_init,b_init)"
   ]
  },
  {
   "cell_type": "code",
   "execution_count": null,
   "id": "84697ab0",
   "metadata": {},
   "outputs": [],
   "source": [
    "def derivative()"
   ]
  },
  {
   "cell_type": "code",
   "execution_count": null,
   "id": "6d96a233",
   "metadata": {},
   "outputs": [],
   "source": [
    "\n"
   ]
  },
  {
   "cell_type": "code",
   "execution_count": null,
   "id": "9017e4a1",
   "metadata": {},
   "outputs": [],
   "source": []
  },
  {
   "cell_type": "code",
   "execution_count": null,
   "id": "a8272e12",
   "metadata": {},
   "outputs": [],
   "source": []
  }
 ],
 "metadata": {
  "kernelspec": {
   "display_name": "Python 3 (ipykernel)",
   "language": "python",
   "name": "python3"
  },
  "language_info": {
   "codemirror_mode": {
    "name": "ipython",
    "version": 3
   },
   "file_extension": ".py",
   "mimetype": "text/x-python",
   "name": "python",
   "nbconvert_exporter": "python",
   "pygments_lexer": "ipython3",
   "version": "3.11.3"
  }
 },
 "nbformat": 4,
 "nbformat_minor": 5
}
