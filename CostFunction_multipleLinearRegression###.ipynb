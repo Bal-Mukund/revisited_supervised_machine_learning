{
 "cells": [
  {
   "cell_type": "code",
   "execution_count": 2,
   "id": "aeedf75b",
   "metadata": {},
   "outputs": [],
   "source": [
    "import numpy as np"
   ]
  },
  {
   "cell_type": "code",
   "execution_count": 3,
   "id": "f75dbf64",
   "metadata": {},
   "outputs": [],
   "source": [
    "x_init = np.array([[2104, 5, 1, 45], [1416, 3, 2, 40], [852, 2, 1, 35]])\n",
    "y_init = np.array([460, 232, 178])\n",
    "w_init = np.array([0.39133535, 18.75376741, -53.36032453, -26.42131618])\n",
    "b_init = 785.1811367994083"
   ]
  },
  {
   "cell_type": "code",
   "execution_count": 5,
   "id": "91f295d0",
   "metadata": {},
   "outputs": [],
   "source": [
    "def ComputeCost(x,y,w,b):\n",
    "    m = x.shape[0]\n",
    "    PredictedValues = model1(x,y,w,b)\n",
    "    SumOfCost = 0\n",
    "    totalCost = 0\n",
    "    for i in range(m):\n",
    "        SumOfCost += (PredictedValues[i] - y[i]) **2\n",
    "    \n",
    "    totalCost = SumOfCost / (2*m)\n",
    "    return totalCost"
   ]
  },
  {
   "cell_type": "code",
   "execution_count": 6,
   "id": "cae458ba",
   "metadata": {},
   "outputs": [
    {
     "data": {
      "text/plain": [
       "1.5578904330213735e-12"
      ]
     },
     "execution_count": 6,
     "metadata": {},
     "output_type": "execute_result"
    }
   ],
   "source": [
    "ComputeCost(x_init,y_init,w_init,b_init)"
   ]
  },
  {
   "cell_type": "code",
   "execution_count": 38,
   "id": "e167c09c",
   "metadata": {},
   "outputs": [],
   "source": [
    "def ComputeGradient(x,y,w,b):\n",
    "    m = x.shape[0]\n",
    "    n = x.shape[1]\n",
    "    dj_dw = np.zeros((n,))\n",
    "    dj_db = 0.\n",
    "    for i in range(m):\n",
    "        predicted = np.dot(x[i],w) + b\n",
    "        err = predicted - y[i]\n",
    "        for j in range(n):\n",
    "            print(dj_dw)\n",
    "            dj_dw[j] += err * x[i,j]\n",
    "            print(i,j)\n",
    "            print(x[i,j])\n",
    "            \n",
    "        dj_db += err\n",
    "        \n",
    "    dj_db = dj_db / m\n",
    "    dj_dw = dj_dw / m\n",
    "    \n",
    "    return dj_db, dj_dw"
   ]
  },
  {
   "cell_type": "code",
   "execution_count": 39,
   "id": "f27f377f",
   "metadata": {},
   "outputs": [
    {
     "name": "stdout",
     "output_type": "stream",
     "text": [
      "[0. 0. 0. 0.]\n",
      "0 0\n",
      "2104\n",
      "[-0.00500877  0.          0.          0.        ]\n",
      "0 1\n",
      "5\n",
      "[-5.00876517e-03 -1.19029590e-05  0.00000000e+00  0.00000000e+00]\n",
      "0 2\n",
      "1\n",
      "[-5.00876517e-03 -1.19029590e-05 -2.38059181e-06  0.00000000e+00]\n",
      "0 3\n",
      "45\n",
      "[-5.00876517e-03 -1.19029590e-05 -2.38059181e-06 -1.07126631e-04]\n",
      "1 0\n",
      "1416\n",
      "[-7.31768313e-03 -1.19029590e-05 -2.38059181e-06 -1.07126631e-04]\n",
      "1 1\n",
      "3\n",
      "[-7.31768313e-03 -1.67947344e-05 -2.38059181e-06 -1.07126631e-04]\n",
      "1 2\n",
      "2\n",
      "[-7.31768313e-03 -1.67947344e-05 -5.64177537e-06 -1.07126631e-04]\n",
      "1 3\n",
      "40\n",
      "[-7.31768313e-03 -1.67947344e-05 -5.64177537e-06 -1.72350303e-04]\n",
      "2 0\n",
      "852\n",
      "[-8.17870730e-03 -1.67947344e-05 -5.64177537e-06 -1.72350303e-04]\n",
      "2 1\n",
      "2\n",
      "[-8.17870730e-03 -1.88159179e-05 -5.64177537e-06 -1.72350303e-04]\n",
      "2 2\n",
      "1\n",
      "[-8.17870730e-03 -1.88159179e-05 -6.65236712e-06 -1.72350303e-04]\n",
      "2 3\n",
      "35\n"
     ]
    },
    {
     "data": {
      "text/plain": [
       "(-1.6739251122999121e-06,\n",
       " array([-2.72623577e-03, -6.27197263e-06, -2.21745571e-06, -6.92403379e-05]))"
      ]
     },
     "execution_count": 39,
     "metadata": {},
     "output_type": "execute_result"
    }
   ],
   "source": [
    "ComputeGradient(x_init,y_init,w_init,b_init)"
   ]
  },
  {
   "cell_type": "code",
   "execution_count": null,
   "id": "74a0c061",
   "metadata": {},
   "outputs": [],
   "source": [
    "def gradientDescent(x,y,w,b,ComputeGradient,ComputeCost,alpha):\n",
    "    for i in range(len(w)):\n",
    "        w[i] = w[i] - alpha* ComputeGradient()"
   ]
  },
  {
   "cell_type": "code",
   "execution_count": 16,
   "id": "2a6a338a",
   "metadata": {},
   "outputs": [
    {
     "name": "stdout",
     "output_type": "stream",
     "text": [
      "[0. 0. 0. 0.]\n"
     ]
    }
   ],
   "source": [
    "print(np.zeros((4,)))"
   ]
  },
  {
   "cell_type": "code",
   "execution_count": 18,
   "id": "66716e20",
   "metadata": {},
   "outputs": [
    {
     "data": {
      "text/plain": [
       "array([[2104,    5,    1,   45],\n",
       "       [1416,    3,    2,   40],\n",
       "       [ 852,    2,    1,   35]])"
      ]
     },
     "execution_count": 18,
     "metadata": {},
     "output_type": "execute_result"
    }
   ],
   "source": [
    "x = np.array([[2104, 5, 1, 45], [1416, 3, 2, 40], [852, 2, 1, 35]])\n",
    "x"
   ]
  },
  {
   "cell_type": "code",
   "execution_count": 19,
   "id": "97d45e1f",
   "metadata": {},
   "outputs": [
    {
     "name": "stdout",
     "output_type": "stream",
     "text": [
      "2104\n",
      "5\n",
      "1\n",
      "45\n"
     ]
    }
   ],
   "source": [
    "for i in range(4):\n",
    "    print(x[0,i])"
   ]
  },
  {
   "cell_type": "code",
   "execution_count": 25,
   "id": "65c4aa48",
   "metadata": {},
   "outputs": [
    {
     "name": "stdout",
     "output_type": "stream",
     "text": [
      "-0.0051301753484267465\n"
     ]
    }
   ],
   "source": [
    "w_init = np.array([0.39133535, 18.75376741, -53.36032453, -26.42131618])\n",
    "b_init = 785.1811367994083\n",
    "y_init = np.array([460, 232, 178])\n",
    "err = (np.dot(x[0],w_init) + b_init) - y_init[0]\n",
    "value = 0\n",
    "for i in range(4):\n",
    "    value += err * x[0,i]\n",
    "print(value)"
   ]
  }
 ],
 "metadata": {
  "kernelspec": {
   "display_name": "Python 3 (ipykernel)",
   "language": "python",
   "name": "python3"
  },
  "language_info": {
   "codemirror_mode": {
    "name": "ipython",
    "version": 3
   },
   "file_extension": ".py",
   "mimetype": "text/x-python",
   "name": "python",
   "nbconvert_exporter": "python",
   "pygments_lexer": "ipython3",
   "version": "3.11.3"
  }
 },
 "nbformat": 4,
 "nbformat_minor": 5
}
