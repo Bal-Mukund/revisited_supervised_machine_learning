{
 "cells": [
  {
   "cell_type": "code",
   "execution_count": 1,
   "id": "aeedf75b",
   "metadata": {},
   "outputs": [],
   "source": [
    "import numpy as np"
   ]
  },
  {
   "cell_type": "code",
   "execution_count": 2,
   "id": "f75dbf64",
   "metadata": {},
   "outputs": [],
   "source": [
    "x_init = np.array([[2104, 5, 1, 45], [1416, 3, 2, 40], [852, 2, 1, 35]])\n",
    "y_init = np.array([460, 232, 178])\n",
    "w_init = np.array([0.39133535, 18.75376741, -53.36032453, -26.42131618])\n",
    "b_init = 785.1811367994083"
   ]
  },
  {
   "cell_type": "code",
   "execution_count": 3,
   "id": "91f295d0",
   "metadata": {},
   "outputs": [],
   "source": [
    "def ComputeCost(x,y,w,b):\n",
    "    m = x.shape[0]\n",
    "    PredictedValues = model1(x,y,w,b)\n",
    "    SumOfCost = 0\n",
    "    totalCost = 0\n",
    "    for i in range(m):\n",
    "        SumOfCost += (PredictedValues[i] - y[i]) **2\n",
    "    \n",
    "    totalCost = SumOfCost / (2*m)\n",
    "    return totalCost"
   ]
  },
  {
   "cell_type": "code",
   "execution_count": 4,
   "id": "cae458ba",
   "metadata": {},
   "outputs": [
    {
     "ename": "NameError",
     "evalue": "name 'model1' is not defined",
     "output_type": "error",
     "traceback": [
      "\u001b[1;31m---------------------------------------------------------------------------\u001b[0m",
      "\u001b[1;31mNameError\u001b[0m                                 Traceback (most recent call last)",
      "Cell \u001b[1;32mIn[4], line 1\u001b[0m\n\u001b[1;32m----> 1\u001b[0m ComputeCost(x_init,y_init,w_init,b_init)\n",
      "Cell \u001b[1;32mIn[3], line 3\u001b[0m, in \u001b[0;36mComputeCost\u001b[1;34m(x, y, w, b)\u001b[0m\n\u001b[0;32m      1\u001b[0m \u001b[38;5;28;01mdef\u001b[39;00m \u001b[38;5;21mComputeCost\u001b[39m(x,y,w,b):\n\u001b[0;32m      2\u001b[0m     m \u001b[38;5;241m=\u001b[39m x\u001b[38;5;241m.\u001b[39mshape[\u001b[38;5;241m0\u001b[39m]\n\u001b[1;32m----> 3\u001b[0m     PredictedValues \u001b[38;5;241m=\u001b[39m model1(x,y,w,b)\n\u001b[0;32m      4\u001b[0m     SumOfCost \u001b[38;5;241m=\u001b[39m \u001b[38;5;241m0\u001b[39m\n\u001b[0;32m      5\u001b[0m     totalCost \u001b[38;5;241m=\u001b[39m \u001b[38;5;241m0\u001b[39m\n",
      "\u001b[1;31mNameError\u001b[0m: name 'model1' is not defined"
     ]
    }
   ],
   "source": [
    "ComputeCost(x_init,y_init,w_init,b_init)"
   ]
  },
  {
   "cell_type": "code",
   "execution_count": null,
   "id": "e167c09c",
   "metadata": {},
   "outputs": [],
   "source": [
    "def ComputeGradient(x,y,w,b):\n",
    "    m = x.shape[0]\n",
    "    n = x.shape[1]\n",
    "    dj_dw = np.zeros((n,))\n",
    "    dj_db = 0.\n",
    "    for i in range(m):\n",
    "        predicted = np.dot(x[i],w) + b\n",
    "        err = predicted - y[i]\n",
    "        for j in range(n):\n",
    "            print(dj_dw)\n",
    "            dj_dw[j] += err * x[i,j]\n",
    "            print(i,j)\n",
    "            print(x[i,j])\n",
    "            \n",
    "        dj_db += err\n",
    "        \n",
    "    dj_db = dj_db / m\n",
    "    dj_dw = dj_dw / m\n",
    "    \n",
    "    return dj_db, dj_dw"
   ]
  },
  {
   "cell_type": "code",
   "execution_count": 5,
   "id": "f27f377f",
   "metadata": {},
   "outputs": [
    {
     "ename": "NameError",
     "evalue": "name 'ComputeGradient' is not defined",
     "output_type": "error",
     "traceback": [
      "\u001b[1;31m---------------------------------------------------------------------------\u001b[0m",
      "\u001b[1;31mNameError\u001b[0m                                 Traceback (most recent call last)",
      "Cell \u001b[1;32mIn[5], line 1\u001b[0m\n\u001b[1;32m----> 1\u001b[0m ComputeGradient(x_init,y_init,w_init,b_init)\n",
      "\u001b[1;31mNameError\u001b[0m: name 'ComputeGradient' is not defined"
     ]
    }
   ],
   "source": [
    "ComputeGradient(x_init,y_init,w_init,b_init)"
   ]
  },
  {
   "cell_type": "code",
   "execution_count": null,
   "id": "74a0c061",
   "metadata": {},
   "outputs": [],
   "source": [
    "def gradientDescent(x,y,w,b,ComputeGradient,ComputeCost,alpha):\n",
    "    for i in range(len(w)):\n",
    "        w[i] = w[i] - alpha* ComputeGradient()"
   ]
  },
  {
   "cell_type": "code",
   "execution_count": 16,
   "id": "2a6a338a",
   "metadata": {},
   "outputs": [
    {
     "name": "stdout",
     "output_type": "stream",
     "text": [
      "[0. 0. 0. 0.]\n"
     ]
    }
   ],
   "source": [
    "print(np.zeros((4,)))"
   ]
  },
  {
   "cell_type": "code",
   "execution_count": 18,
   "id": "66716e20",
   "metadata": {},
   "outputs": [
    {
     "data": {
      "text/plain": [
       "array([[2104,    5,    1,   45],\n",
       "       [1416,    3,    2,   40],\n",
       "       [ 852,    2,    1,   35]])"
      ]
     },
     "execution_count": 18,
     "metadata": {},
     "output_type": "execute_result"
    }
   ],
   "source": [
    "x = np.array([[2104, 5, 1, 45], [1416, 3, 2, 40], [852, 2, 1, 35]])\n",
    "x"
   ]
  },
  {
   "cell_type": "code",
   "execution_count": 19,
   "id": "97d45e1f",
   "metadata": {},
   "outputs": [
    {
     "name": "stdout",
     "output_type": "stream",
     "text": [
      "2104\n",
      "5\n",
      "1\n",
      "45\n"
     ]
    }
   ],
   "source": [
    "for i in range(4):\n",
    "    print(x[0,i])"
   ]
  },
  {
   "cell_type": "code",
   "execution_count": 25,
   "id": "65c4aa48",
   "metadata": {},
   "outputs": [
    {
     "name": "stdout",
     "output_type": "stream",
     "text": [
      "-0.0051301753484267465\n"
     ]
    }
   ],
   "source": [
    "w_init = np.array([0.39133535, 18.75376741, -53.36032453, -26.42131618])\n",
    "b_init = 785.1811367994083\n",
    "y_init = np.array([460, 232, 178])\n",
    "err = (np.dot(x[0],w_init) + b_init) - y_init[0]\n",
    "value = 0\n",
    "for i in range(4):\n",
    "    value += err * x[0,i]\n",
    "print(value)"
   ]
  }
 ],
 "metadata": {
  "kernelspec": {
   "display_name": "Python 3 (ipykernel)",
   "language": "python",
   "name": "python3"
  },
  "language_info": {
   "codemirror_mode": {
    "name": "ipython",
    "version": 3
   },
   "file_extension": ".py",
   "mimetype": "text/x-python",
   "name": "python",
   "nbconvert_exporter": "python",
   "pygments_lexer": "ipython3",
   "version": "3.11.3"
  }
 },
 "nbformat": 4,
 "nbformat_minor": 5
}
